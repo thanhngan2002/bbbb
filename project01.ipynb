{
 "cells": [
  {
   "cell_type": "code",
   "execution_count": 1,
   "metadata": {},
   "outputs": [],
   "source": [
    "# Thư Viện\n",
    "import numpy as np\n",
    "import random\n",
    "from collections import Counter\n"
   ]
  },
  {
   "cell_type": "code",
   "execution_count": 14,
   "metadata": {},
   "outputs": [
    {
     "name": "stdout",
     "output_type": "stream",
     "text": [
      "Nhap so phan tu cua mang n=: 5\n",
      "([12], [86, 53, 91, 52, 31])\n",
      "(50.2, 62.6)\n",
      "(1025.76, 511.44000000000005)\n",
      "(32.027488193737575, 22.615039243830644)\n"
     ]
    }
   ],
   "source": [
    "n = int(input('Nhap so phan tu cua mang n=: '))\n",
    "ar1_ = []\n",
    "ar2_ = []\n",
    "for i in range(n):\n",
    "    a = random.randrange(100)\n",
    "    ar1_.append(a)\n",
    "    b = random.randrange(100)\n",
    "    ar2_.append(b)\n",
    "    ar1 = np.array(ar1_)\n",
    "    ar2 = np.array(ar2_)\n",
    "\n",
    "\n",
    "class Project01():\n",
    "\n",
    "    def __init__(self, ar1, ar2):\n",
    "        self.ar1 = ar1\n",
    "        self.ar2 = ar2\n",
    "\n",
    "    def mean(self):\n",
    "        n = len(self.ar1)\n",
    "        get_sum = sum(self.ar1)\n",
    "        mean1 = get_sum / n\n",
    "         \n",
    "        get_sum = sum(self.ar2)\n",
    "        mean2 = get_sum / n\n",
    "        return mean1, mean2\n",
    "\n",
    "    def mode(self):\n",
    "        n = len(self.ar1)\n",
    "\n",
    "        data = Counter(self.ar1)\n",
    "        get_mode = dict(data)\n",
    "        mode1 = [k for k, v in get_mode.items() if v == max(list(data.values()))]\n",
    "\n",
    "        \n",
    "        data = Counter(self.ar2)\n",
    "        get_mode = dict(data)\n",
    "        mode2 = [k for k, v in get_mode.items() if v == max(list(data.values()))]\n",
    "\n",
    "        return mode1, mode2\n",
    "\n",
    "    def variance(self):\n",
    "        t = 0\n",
    "        tb = sum(self.ar1) / len(self.ar1)\n",
    "        for i in self.ar1:\n",
    "            t = t + (i - tb) ** 2\n",
    "        v1 = t / len(self.ar1)\n",
    "        self.v1 = v1\n",
    "        tb2 = sum(self.ar2) / len(self.ar2)\n",
    "        t = 0\n",
    "        for i in self.ar2:\n",
    "            t = t + (i - tb2) ** 2\n",
    "        v2 = t / len(self.ar2)\n",
    "        self.v2 = v2\n",
    "        return v1, v2\n",
    "\n",
    "    def std(self):\n",
    "        o1 = np.sqrt(self.v1)\n",
    "        o2 = np.sqrt(self.v2)\n",
    "        return o1, o2\n",
    "\n",
    "proj = Project01(ar1,ar2)\n",
    "print(proj.mode())\n",
    "print(proj.mean())\n",
    "print(proj.variance())\n",
    "print(proj.std())\n",
    "\n"
   ]
  },
  {
   "cell_type": "code",
   "execution_count": null,
   "metadata": {},
   "outputs": [],
   "source": []
  }
 ],
 "metadata": {
  "kernelspec": {
   "display_name": "Python 3",
   "language": "python",
   "name": "python3"
  },
  "language_info": {
   "codemirror_mode": {
    "name": "ipython",
    "version": 3
   },
   "file_extension": ".py",
   "mimetype": "text/x-python",
   "name": "python",
   "nbconvert_exporter": "python",
   "pygments_lexer": "ipython3",
   "version": "3.8.5"
  }
 },
 "nbformat": 4,
 "nbformat_minor": 4
}
